{
 "cells": [
  {
   "cell_type": "code",
   "execution_count": 5,
   "id": "1471a4f7",
   "metadata": {},
   "outputs": [
    {
     "name": "stdout",
     "output_type": "stream",
     "text": [
      "Collecting pyspellchecker==0.5.6\n",
      "  Downloading pyspellchecker-0.5.6-py2.py3-none-any.whl (2.5 MB)\n",
      "                                              0.0/2.5 MB ? eta -:--:--\n",
      "     --------                                 0.5/2.5 MB 11.1 MB/s eta 0:00:01\n",
      "     --------------------------               1.7/2.5 MB 17.5 MB/s eta 0:00:01\n",
      "     ---------------------------------        2.1/2.5 MB 19.1 MB/s eta 0:00:01\n",
      "     ---------------------------------        2.1/2.5 MB 19.1 MB/s eta 0:00:01\n",
      "     ---------------------------------        2.1/2.5 MB 19.1 MB/s eta 0:00:01\n",
      "     ---------------------------------        2.1/2.5 MB 19.1 MB/s eta 0:00:01\n",
      "     ---------------------------------        2.1/2.5 MB 19.1 MB/s eta 0:00:01\n",
      "     ----------------------------------       2.1/2.5 MB 5.7 MB/s eta 0:00:01\n",
      "     ---------------------------------------- 2.5/2.5 MB 5.9 MB/s eta 0:00:00\n",
      "Installing collected packages: pyspellchecker\n",
      "Successfully installed pyspellchecker-0.5.6\n",
      "Note: you may need to restart the kernel to use updated packages.\n"
     ]
    }
   ],
   "source": [
    "pip install pyspellchecker==0.5.6"
   ]
  },
  {
   "cell_type": "code",
   "execution_count": null,
   "id": "0e168379",
   "metadata": {},
   "outputs": [
    {
     "name": "stdout",
     "output_type": "stream",
     "text": [
      "_________Auto Correct Tool_________\n",
      "Enter a sentence to correctvectus\n",
      "['vectus']\n",
      "rectus\n",
      "_________Auto Correct Tool_________\n",
      "Enter a sentence to correctintrenet\n",
      "['intrenet']\n",
      "internet\n",
      "_________Auto Correct Tool_________\n"
     ]
    }
   ],
   "source": [
    "from spellchecker import SpellChecker\n",
    "spell = SpellChecker()\n",
    "\n",
    "while True:\n",
    "    print(\"_________Auto Correct Tool_________\")\n",
    "    text= input(\"Enter a sentence to correct\")\n",
    "    words = text.split()\n",
    "    print(words)\n",
    "    corrected_words = []\n",
    "    for word in words:\n",
    "        if word not in spell:\n",
    "            corrected_words.append(spell.correction(word))\n",
    "        else:\n",
    "            corrected_words.append(word)\n",
    "    corrected_text = \"\".join(corrected_words)\n",
    "    print(corrected_text)"
   ]
  },
  {
   "cell_type": "code",
   "execution_count": null,
   "id": "04d63fd3",
   "metadata": {},
   "outputs": [],
   "source": []
  }
 ],
 "metadata": {
  "kernelspec": {
   "display_name": "Python 3 (ipykernel)",
   "language": "python",
   "name": "python3"
  },
  "language_info": {
   "codemirror_mode": {
    "name": "ipython",
    "version": 3
   },
   "file_extension": ".py",
   "mimetype": "text/x-python",
   "name": "python",
   "nbconvert_exporter": "python",
   "pygments_lexer": "ipython3",
   "version": "3.11.3"
  }
 },
 "nbformat": 4,
 "nbformat_minor": 5
}
